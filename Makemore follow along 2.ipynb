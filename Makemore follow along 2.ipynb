{
 "cells": [
  {
   "cell_type": "markdown",
   "id": "5a3c7198-8ac9-46f6-bc7d-c1333a36c8c0",
   "metadata": {},
   "source": [
    "Follow along of Anrej Karpathy's makemore series video 2, this one covers using more complex neural networks to train a next character language model\n",
    "now has expanded variable context size\n",
    "\n",
    "Train , validation , test\n",
    "80%, 10%, 10%S\n",
    "in practice that 80% is spent tuning paramaters like embedding weights and neuron biases\n",
    "validation is spent tuning hyper paramSaters like - learning rate, learning rate decay, point of learning rate decay, context size, training length, batch size and more\n",
    "\n",
    "when loss on train and test are equal it's underfitting and performance can be gained by scaling up dimension of some hyper parameters"
   ]
  },
  {
   "cell_type": "code",
   "execution_count": 343,
   "id": "f6e867de-cfde-448c-aec8-2b0d16171270",
   "metadata": {},
   "outputs": [],
   "source": [
    "import torch\n",
    "import torch.nn.functional as F\n",
    "import matplotlib.pyplot as plt # for making figures\n",
    "%matplotlib inline"
   ]
  },
  {
   "cell_type": "code",
   "execution_count": 345,
   "id": "b2ae6b85-e468-4a5c-bf9a-4c663caa8438",
   "metadata": {},
   "outputs": [
    {
     "data": {
      "text/plain": [
       "['emma', 'olivia', 'ava', 'isabella', 'sophia', 'charlotte', 'mia', 'amelia']"
      ]
     },
     "execution_count": 345,
     "metadata": {},
     "output_type": "execute_result"
    }
   ],
   "source": [
    "words = open('names.txt', 'r').read().splitlines()\n",
    "words[:8]"
   ]
  },
  {
   "cell_type": "code",
   "execution_count": 347,
   "id": "b4999691-8916-453c-bdc2-92a929a29289",
   "metadata": {},
   "outputs": [
    {
     "name": "stdout",
     "output_type": "stream",
     "text": [
      "{1: 'a', 2: 'b', 3: 'c', 4: 'd', 5: 'e', 6: 'f', 7: 'g', 8: 'h', 9: 'i', 10: 'j', 11: 'k', 12: 'l', 13: 'm', 14: 'n', 15: 'o', 16: 'p', 17: 'q', 18: 'r', 19: 's', 20: 't', 21: 'u', 22: 'v', 23: 'w', 24: 'x', 25: 'y', 26: 'z', 0: '.'}\n"
     ]
    }
   ],
   "source": [
    "# build the vocabulary of characters and mappings to/from integers\n",
    "chars = sorted(list(set(''.join(words))))\n",
    "stoi = {s:i+1 for i,s in enumerate(chars)}\n",
    "stoi['.'] = 0\n",
    "itos = {i:s for s,i in stoi.items()}\n",
    "print(itos)"
   ]
  },
  {
   "cell_type": "code",
   "execution_count": 623,
   "id": "83d24670-733e-41f4-8880-2c854b0c2fe2",
   "metadata": {},
   "outputs": [],
   "source": [
    "#Hyperparamater definition\n",
    "contextSize = 4\n",
    "neurons = 250\n",
    "embeddingSpaceDim = 15\n",
    "trainSize = 100000\n",
    "batchSize = 256\n",
    "learningRate = 0.05\n",
    "learningDecay = 10\n",
    "\n",
    "thirty = 30 # couldnt figure out what this parameter actually was and how it should be named?"
   ]
  },
  {
   "cell_type": "code",
   "execution_count": 584,
   "id": "f744f666-a344-4a4b-b152-83e3ded2fb15",
   "metadata": {},
   "outputs": [
    {
     "name": "stdout",
     "output_type": "stream",
     "text": [
      "torch.Size([182580, 4]) torch.Size([182580])\n",
      "torch.Size([22740, 4]) torch.Size([22740])\n",
      "torch.Size([22826, 4]) torch.Size([22826])\n"
     ]
    }
   ],
   "source": [
    "# build the dataset\n",
    "block_size = contextSize # context length: how many characters do we take to predict the next one?\n",
    "\n",
    "def build_dataset(words):  \n",
    "  X, Y = [], []\n",
    "  for w in words:\n",
    "\n",
    "    #print(w)\n",
    "    context = [0] * block_size\n",
    "    for ch in w + '.':\n",
    "      ix = stoi[ch]\n",
    "      X.append(context)\n",
    "      Y.append(ix)\n",
    "      #print(''.join(itos[i] for i in context), '--->', itos[ix])\n",
    "      context = context[1:] + [ix] # crop and append\n",
    "\n",
    "  X = torch.tensor(X)\n",
    "  Y = torch.tensor(Y)\n",
    "  print(X.shape, Y.shape)\n",
    "  return X, Y\n",
    "\n",
    "import random\n",
    "random.seed(42)\n",
    "random.shuffle(words)\n",
    "n1 = int(0.8*len(words))\n",
    "n2 = int(0.9*len(words))\n",
    "\n",
    "Xtr, Ytr = build_dataset(words[:n1])\n",
    "Xdev, Ydev = build_dataset(words[n1:n2])\n",
    "Xte, Yte = build_dataset(words[n2:])"
   ]
  },
  {
   "cell_type": "code",
   "execution_count": 585,
   "id": "618e5184-7b89-485a-94ed-d71a39064070",
   "metadata": {},
   "outputs": [
    {
     "data": {
      "text/plain": [
       "(torch.Size([228146, 3]), torch.int64, torch.Size([228146]), torch.int64)"
      ]
     },
     "execution_count": 585,
     "metadata": {},
     "output_type": "execute_result"
    }
   ],
   "source": [
    "X.shape, X.dtype, Y.shape, Y.dtype"
   ]
  },
  {
   "cell_type": "code",
   "execution_count": 586,
   "id": "e66a5ecb-bbbe-4369-b9af-87b4f6036856",
   "metadata": {},
   "outputs": [],
   "source": [
    "#params definition\n",
    "g = torch.Generator().manual_seed(2147483647)\n",
    "C = torch.rand((27, embeddingSpaceDim), generator=g)\n",
    "W1 = torch.randn((thirty, neurons) , generator=g)\n",
    "b1 = torch.randn(neurons, generator=g)\n",
    "W2 = torch.rand((neurons, 27), generator=g)\n",
    "b2 = torch.randn(27, generator=g)\n",
    "parameters = [C, W1, b1, W2, b2]"
   ]
  },
  {
   "cell_type": "code",
   "execution_count": 590,
   "id": "b1639c19-5ce5-4dab-a1d8-d9527fa2bd21",
   "metadata": {},
   "outputs": [],
   "source": [
    "for p in parameters:\n",
    "    p.requires_grad = True"
   ]
  },
  {
   "cell_type": "code",
   "execution_count": 592,
   "id": "3babbe20-4877-4e3a-8a81-764976d8d95d",
   "metadata": {},
   "outputs": [],
   "source": [
    "lre = torch.linspace(-3, 0, 1000)\n",
    "lrs = 10 ** lre"
   ]
  },
  {
   "cell_type": "code",
   "execution_count": 594,
   "id": "e02d58e6-3360-45bd-b75e-97c1d5675275",
   "metadata": {},
   "outputs": [],
   "source": [
    "lri = []\n",
    "lossi = []\n",
    "stepi = []"
   ]
  },
  {
   "cell_type": "code",
   "execution_count": 614,
   "id": "4e9495e9-3236-4c24-aa46-19fd2543915c",
   "metadata": {},
   "outputs": [],
   "source": [
    "for i in range(trainSize):\n",
    "    # Batching, approximate gradient with more steps is better than fewer steps with exact gradients\n",
    "    ix = torch.randint(0, Xtr.shape[0], (batchSize,), generator=g)\n",
    "\n",
    "    #forward pass\n",
    "    emb = C[Xtr[ix]]\n",
    "    h = torch.tanh(emb.view(-1, thirty) @ W1 + b1)\n",
    "    logits = h @ W2 + b2\n",
    "    loss = F.cross_entropy(logits, Ytr[ix])\n",
    "    #print(loss)\n",
    "\n",
    "    #backward pass\n",
    "    for p in parameters:\n",
    "        p.grad = None\n",
    "    loss.backward()\n",
    "\n",
    "    #update tracking\n",
    "    #lr = lrs[i]\n",
    "    lr = learningRate if i < trainSize/1.5 else learningRate / learningDecay\n",
    "    for p in parameters:\n",
    "        p.data += -lr * p.grad\n",
    "\n",
    "    stepi.append(i)\n",
    "    lossi.append(loss.log10().item())"
   ]
  },
  {
   "cell_type": "markdown",
   "id": "a4999f40-6af2-4c90-b3e0-fb7eb9df568f",
   "metadata": {},
   "source": [
    "learning rate found by plotting \n",
    "can then decay this at the end by a factor of 10 to optimize final bit"
   ]
  },
  {
   "cell_type": "code",
   "execution_count": 616,
   "id": "b8bbe5de-9957-421d-b9c5-39fcd8a3af03",
   "metadata": {},
   "outputs": [
    {
     "data": {
      "text/plain": [
       "tensor(1.8763, grad_fn=<NllLossBackward0>)"
      ]
     },
     "execution_count": 616,
     "metadata": {},
     "output_type": "execute_result"
    }
   ],
   "source": [
    "#evaluate loss on training data\n",
    "emb = C[Xtr] # (32, 3, 2)\n",
    "h = torch.tanh(emb.view(-1, thirty) @ W1 + b1) # (32, 100)\n",
    "logits = h @ W2 + b2 # (32, 27)\n",
    "loss = F.cross_entropy(logits, Ytr)\n",
    "loss"
   ]
  },
  {
   "cell_type": "code",
   "execution_count": null,
   "id": "11b548dd-cb71-4b0e-9897-f2a809ceef42",
   "metadata": {},
   "outputs": [],
   "source": [
    "# evaluate loss on validation data"
   ]
  },
  {
   "cell_type": "code",
   "execution_count": 617,
   "id": "29d89694-c329-4c61-a1ab-9a14847afa4b",
   "metadata": {
    "scrolled": true
   },
   "outputs": [
    {
     "data": {
      "text/plain": [
       "tensor(2.0824, grad_fn=<NllLossBackward0>)"
      ]
     },
     "execution_count": 617,
     "metadata": {},
     "output_type": "execute_result"
    }
   ],
   "source": [
    "emb = C[Xdev] # (32, 3, 2)\n",
    "h = torch.tanh(emb.view(-1, thirty) @ W1 + b1) # (32, 100)\n",
    "logits = h @ W2 + b2 # (32, 27)\n",
    "loss = F.cross_entropy(logits, Ydev)\n",
    "loss"
   ]
  },
  {
   "cell_type": "code",
   "execution_count": null,
   "id": "07d5f9f6-8905-41fb-92fe-a7ce56d26f91",
   "metadata": {},
   "outputs": [],
   "source": [
    "# evaluate loss on test data, got a 2.0599 lower than challenged 2.1701"
   ]
  },
  {
   "cell_type": "code",
   "execution_count": 618,
   "id": "3ffc3860-c481-46d3-8be4-2ee4d74807b1",
   "metadata": {},
   "outputs": [
    {
     "data": {
      "text/plain": [
       "tensor(2.0599, grad_fn=<NllLossBackward0>)"
      ]
     },
     "execution_count": 618,
     "metadata": {},
     "output_type": "execute_result"
    }
   ],
   "source": [
    "emb = C[Xte] # (32, 3, 2)\n",
    "h = torch.tanh(emb.view(-1, thirty) @ W1 + b1) # (32, 100)\n",
    "logits = h @ W2 + b2 # (32, 27)\n",
    "loss = F.cross_entropy(logits, Yte)\n",
    "loss"
   ]
  },
  {
   "cell_type": "code",
   "execution_count": null,
   "id": "d22f0c55-e3bc-4395-921e-7eb7e97759a2",
   "metadata": {},
   "outputs": [],
   "source": [
    "#plot used to find learning rate"
   ]
  },
  {
   "cell_type": "code",
   "execution_count": 203,
   "id": "6dd6241c-39df-483e-91e7-2d6ecdb3ad65",
   "metadata": {},
   "outputs": [
    {
     "data": {
      "text/plain": [
       "[<matplotlib.lines.Line2D at 0x2b40aac0110>]"
      ]
     },
     "execution_count": 203,
     "metadata": {},
     "output_type": "execute_result"
    },
    {
     "data": {
      "image/png": "[encoded data removed]",
      "text/plain": [
       "<Figure size 640x480 with 1 Axes>"
      ]
     },
     "metadata": {},
     "output_type": "display_data"
    }
   ],
   "source": [
    "plt.plot(lri, lossi)"
   ]
  },
  {
   "cell_type": "code",
   "execution_count": 307,
   "id": "7b8f696d-b2cb-441d-9b6a-a54dfdc11298",
   "metadata": {},
   "outputs": [
    {
     "data": {
      "text/plain": [
       "[<matplotlib.lines.Line2D at 0x2b40a3c9e20>]"
      ]
     },
     "execution_count": 307,
     "metadata": {},
     "output_type": "execute_result"
    },
    {
     "data": {
      "image/png": "[encoded data removed]",
      "text/plain": [
       "<Figure size 640x480 with 1 Axes>"
      ]
     },
     "metadata": {},
     "output_type": "display_data"
    }
   ],
   "source": [
    "plt.plot(stepi, lossi)"
   ]
  },
  {
   "cell_type": "code",
   "execution_count": null,
   "id": "48e1bcc2-5ebd-4aee-a3d6-ef3fbe0e5469",
   "metadata": {},
   "outputs": [],
   "source": [
    "# sample from the model\n",
    "g = torch.Generator().manual_seed(2147483647 + 10)\n",
    "\n",
    "for _ in range(20):\n",
    "    \n",
    "    out = []\n",
    "    context = [0] * block_size # initialize with all ...\n",
    "    while True:\n",
    "      emb = C[torch.tensor([context])] # (1,block_size,d)\n",
    "      h = torch.tanh(emb.view(1, -1) @ W1 + b1)\n",
    "      logits = h @ W2 + b2\n",
    "      probs = F.softmax(logits, dim=1)\n",
    "      ix = torch.multinomial(probs, num_samples=1, generator=g).item()\n",
    "      context = context[1:] + [ix]\n",
    "      out.append(ix)\n",
    "      if ix == 0:\n",
    "        break\n",
    "    \n",
    "    print(''.join(itos[i] for i in out))"
   ]
  }
 ],
 "metadata": {
  "kernelspec": {
   "display_name": "Python 3 (ipykernel)",
   "language": "python",
   "name": "python3"
  },
  "language_info": {
   "codemirror_mode": {
    "name": "ipython",
    "version": 3
   },
   "file_extension": ".py",
   "mimetype": "text/x-python",
   "name": "python",
   "nbconvert_exporter": "python",
   "pygments_lexer": "ipython3",
   "version": "3.12.4"
  }
 },
 "nbformat": 4,
 "nbformat_minor": 5
}
