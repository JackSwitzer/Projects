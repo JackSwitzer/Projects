{
 "cells": [
  {
   "cell_type": "code",
   "execution_count": null,
   "id": "2a875ca2-a089-4224-8f33-d18b4bf40e09",
   "metadata": {},
   "outputs": [],
   "source": [
    "import os\n",
    "import re\n",
    "\n",
    "def is_markdown_file(filename):\n",
    "    return filename.endswith('.md')\n",
    "\n",
    "def remove_yaml_frontmatter(content):\n",
    "    return re.sub(r'^---\\s*[\\s\\S]*?---\\s*', '', content, flags=re.MULTILINE)\n",
    "\n",
    "def remove_headers(content):\n",
    "    return re.sub(r'^#+.*$', '', content, flags=re.MULTILINE)\n",
    "\n",
    "def count_words(text):\n",
    "    return len(re.findall(r'\\w+', text))\n",
    "\n",
    "def process_file(file_path):\n",
    "    with open(file_path, 'r', encoding='utf-8') as file:\n",
    "        content = file.read()\n",
    "    \n",
    "    # Remove YAML frontmatter\n",
    "    content = remove_yaml_frontmatter(content)\n",
    "    \n",
    "    # Remove headers\n",
    "    content = remove_headers(content)\n",
    "    \n",
    "    # Count words\n",
    "    return count_words(content)\n",
    "\n",
    "def count_words_in_vault(vault_path):\n",
    "    total_words = 0\n",
    "    for root, dirs, files in os.walk(vault_path):\n",
    "        for file in files:\n",
    "            if is_markdown_file(file):\n",
    "                try:\n",
    "                    file_path = os.path.join(root, file)\n",
    "                    word_count = process_file(file_path)\n",
    "                    total_words += word_count\n",
    "                    print(f\"{file}: {word_count} words\")\n",
    "                except Exception as e:\n",
    "                    total_words = 0\n",
    "                    print(f\"excepted {file_path} as {e}\")\n",
    "        \n",
    "    return total_words\n",
    "\n",
    "if __name__ == \"__main__\":\n",
    "    vault_path = input(\"Enter the path to your Obsidian vault: \")\n",
    "    total_words = count_words_in_vault(vault_path)\n",
    "    print(f\"\\nTotal words in the vault (excluding headers and YAML frontmatter): {total_words}\")"
   ]
  },
  {
   "cell_type": "code",
   "execution_count": null,
   "id": "4be0554d-0106-4157-b93b-d6eff970d31b",
   "metadata": {},
   "outputs": [],
   "source": []
  }
 ],
 "metadata": {
  "kernelspec": {
   "display_name": "Python 3 (ipykernel)",
   "language": "python",
   "name": "python3"
  },
  "language_info": {
   "codemirror_mode": {
    "name": "ipython",
    "version": 3
   },
   "file_extension": ".py",
   "mimetype": "text/x-python",
   "name": "python",
   "nbconvert_exporter": "python",
   "pygments_lexer": "ipython3",
   "version": "3.12.1"
  }
 },
 "nbformat": 4,
 "nbformat_minor": 5
}
