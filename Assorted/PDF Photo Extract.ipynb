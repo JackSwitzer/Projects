{
 "cells": [
  {
   "cell_type": "code",
   "execution_count": 2,
   "id": "791a8444-b164-454d-855f-499aba704cc7",
   "metadata": {},
   "outputs": [
    {
     "name": "stdout",
     "output_type": "stream",
     "text": [
      "Saved image_page_9_img_1.png\n",
      "Saved image_page_9_img_2.png\n",
      "Saved image_page_17_img_1.png\n",
      "Saved image_page_17_img_2.png\n",
      "Saved image_page_17_img_3.png\n",
      "Saved image_page_17_img_4.png\n"
     ]
    }
   ],
   "source": [
    "import fitz  # PyMuPDF\n",
    "\n",
    "# Open the PDF file\n",
    "pdf_document = r\"C:\\Users\\jacks\\Downloads\\Grokfast.pdf\"\n",
    "pdf = fitz.open(pdf_document)\n",
    "\n",
    "# Loop through the pages\n",
    "for page_number in range(len(pdf)):\n",
    "    page = pdf.load_page(page_number)  # Load a single page\n",
    "    images = page.get_images(full=True)  # Extract images\n",
    "\n",
    "    # Loop through all images on the page\n",
    "    for img_index, img in enumerate(images):\n",
    "        xref = img[0]\n",
    "        base_image = pdf.extract_image(xref)\n",
    "        image_bytes = base_image[\"image\"]\n",
    "\n",
    "        # Save the extracted image\n",
    "        image_filename = f\"image_page_{page_number+1}_img_{img_index+1}.png\"\n",
    "        with open(image_filename, \"wb\") as image_file:\n",
    "            image_file.write(image_bytes)\n",
    "\n",
    "        print(f\"Saved {image_filename}\")\n",
    "        \n"
   ]
  },
  {
   "cell_type": "code",
   "execution_count": null,
   "id": "ad10ae55-2875-4d37-a2a5-c005fd1fba0d",
   "metadata": {},
   "outputs": [],
   "source": []
  }
 ],
 "metadata": {
  "kernelspec": {
   "display_name": "Python 3 (ipykernel)",
   "language": "python",
   "name": "python3"
  },
  "language_info": {
   "codemirror_mode": {
    "name": "ipython",
    "version": 3
   },
   "file_extension": ".py",
   "mimetype": "text/x-python",
   "name": "python",
   "nbconvert_exporter": "python",
   "pygments_lexer": "ipython3",
   "version": "3.12.1"
  }
 },
 "nbformat": 4,
 "nbformat_minor": 5
}
