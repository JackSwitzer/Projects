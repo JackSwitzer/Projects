{
 "cells": [
  {
   "cell_type": "code",
   "execution_count": null,
   "id": "8dbe978c-a48e-4b55-a17f-bbd755dc04aa",
   "metadata": {},
   "outputs": [],
   "source": [
    "import pdfkit\n",
    "import sys\n",
    "import os\n",
    "\n",
    "def html_to_pdf(input_source, output_pdf):\n",
    "    \"\"\"\n",
    "    Converts an HTML file, URL, or HTML string to a PDF file.\n",
    "\n",
    "    Parameters:\n",
    "    - input_source (str): The path to an HTML file, a URL, or an HTML string.\n",
    "    - output_pdf (str): The path where the output PDF will be saved.\n",
    "    \"\"\"\n",
    "    # Check if the input source is a file path\n",
    "    if os.path.isfile(input_source):\n",
    "        pdfkit.from_file(input_source, output_pdf)\n",
    "    # Check if the input source is a URL\n",
    "    elif input_source.startswith(('http://', 'https://')):\n",
    "        pdfkit.from_url(input_source, output_pdf)\n",
    "    else:\n",
    "        # Assume the input source is an HTML string\n",
    "        pdfkit.from_string(input_source, output_pdf)\n",
    "    print(f\"PDF successfully saved to {output_pdf}\")\n",
    "\n",
    "if __name__ == '__main__':\n",
    "    if len(sys.argv) != 3:\n",
    "        print(\"Usage: python html_to_pdf.py <input_source> <output_pdf>\")\n",
    "        print(\"Example: python html_to_pdf.py input.html output.pdf\")\n",
    "        print(\"         python html_to_pdf.py 'http://example.com' output.pdf\")\n",
    "        print(\"         python html_to_pdf.py '<h1>Hello World</h1>' output.pdf\")\n",
    "    else:\n",
    "        input_source = \"PATH OR URL\"\n",
    "        output_pdf = \"OUTPATH.pdf\"\n",
    "        html_to_pdf(input_source, output_pdf)\n"
   ]
  },
  {
   "cell_type": "code",
   "execution_count": null,
   "id": "784f3d63-fb47-4de7-9a10-406eb57834cf",
   "metadata": {},
   "outputs": [],
   "source": []
  }
 ],
 "metadata": {
  "kernelspec": {
   "display_name": "Python 3 (ipykernel)",
   "language": "python",
   "name": "python3"
  },
  "language_info": {
   "codemirror_mode": {
    "name": "ipython",
    "version": 3
   },
   "file_extension": ".py",
   "mimetype": "text/x-python",
   "name": "python",
   "nbconvert_exporter": "python",
   "pygments_lexer": "ipython3",
   "version": "3.12.1"
  }
 },
 "nbformat": 4,
 "nbformat_minor": 5
}
